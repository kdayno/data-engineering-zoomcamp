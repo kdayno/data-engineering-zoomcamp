{
  "cells": [
    {
      "cell_type": "markdown",
      "metadata": {
        "id": "mrTFv5nPClXh"
      },
      "source": [
        "# **Homework**: Data talks club data engineering zoomcamp Data loading workshop\n",
        "\n",
        "Hello folks, let's practice what we learned - Loading data with the best practices of data engineering.\n",
        "\n",
        "Here are the exercises we will do\n",
        "\n",
        "\n"
      ]
    },
    {
      "cell_type": "markdown",
      "metadata": {
        "id": "wLF4iXf-NR7t"
      },
      "source": [
        "# 1. Use a generator\n",
        "\n",
        "Remember the concept of generator? Let's practice using them to futher our understanding of how they work.\n",
        "\n",
        "Let's define a generator and then run it as practice.\n",
        "\n",
        "**Answer the following questions:**\n",
        "\n",
        "- **Question 1: What is the sum of the outputs of the generator for limit = 5?**\n",
        "- **Question 2: What is the 13th number yielded**\n",
        "\n",
        "I suggest practicing these questions without GPT as the purpose is to further your learning."
      ]
    },
    {
      "cell_type": "code",
      "execution_count": 7,
      "metadata": {
        "colab": {
          "base_uri": "https://localhost:8080/"
        },
        "id": "wLng-bDJN4jf",
        "outputId": "547683cb-5f56-4815-a903-d0d9578eb1f9"
      },
      "outputs": [
        {
          "name": "stdout",
          "output_type": "stream",
          "text": [
            "1.0\n",
            "1.4142135623730951\n",
            "1.7320508075688772\n",
            "2.0\n",
            "2.23606797749979\n"
          ]
        }
      ],
      "source": [
        "def square_root_generator(limit):\n",
        "    n = 1\n",
        "    while n <= limit:\n",
        "        yield n ** 0.5\n",
        "        n += 1\n",
        "\n",
        "# Example usage:\n",
        "limit = 5\n",
        "generator = square_root_generator(limit)\n",
        "\n",
        "for sqrt_value in generator:\n",
        "    print(sqrt_value)\n"
      ]
    },
    {
      "cell_type": "code",
      "execution_count": 8,
      "metadata": {},
      "outputs": [
        {
          "data": {
            "text/plain": [
              "8.382332347441762"
            ]
          },
          "execution_count": 8,
          "metadata": {},
          "output_type": "execute_result"
        }
      ],
      "source": [
        "1.0 + 1.4142135623730951 + 1.7320508075688772 + 2.0 + 2.23606797749979"
      ]
    },
    {
      "cell_type": "code",
      "execution_count": 9,
      "metadata": {},
      "outputs": [
        {
          "name": "stdout",
          "output_type": "stream",
          "text": [
            "1.0\n",
            "1.4142135623730951\n",
            "1.7320508075688772\n",
            "2.0\n",
            "2.23606797749979\n",
            "2.449489742783178\n",
            "2.6457513110645907\n",
            "2.8284271247461903\n",
            "3.0\n",
            "3.1622776601683795\n",
            "3.3166247903554\n",
            "3.4641016151377544\n",
            "3.605551275463989\n"
          ]
        }
      ],
      "source": [
        "limit = 13\n",
        "generator = square_root_generator(limit)\n",
        "\n",
        "for val in generator:\n",
        "    print(val)\n"
      ]
    },
    {
      "cell_type": "markdown",
      "metadata": {
        "id": "xbe3q55zN43j"
      },
      "source": []
    },
    {
      "cell_type": "markdown",
      "metadata": {
        "id": "vjWhILzGJMpK"
      },
      "source": [
        "# 2. Append a generator to a table with existing data\n",
        "\n",
        "\n",
        "Below you have 2 generators. You will be tasked to load them to duckdb and answer some questions from the data\n",
        "\n",
        "1. Load the first generator and calculate the sum of ages of all people. Make sure to only load it once.\n",
        "2. Append the second generator to the same table as the first.\n",
        "3. **After correctly appending the data, calculate the sum of all ages of people.**\n",
        "\n",
        "\n"
      ]
    },
    {
      "cell_type": "code",
      "execution_count": 69,
      "metadata": {
        "colab": {
          "base_uri": "https://localhost:8080/"
        },
        "id": "2MoaQcdLBEk6",
        "outputId": "d2b93dc1-d83f-44ea-aeff-fdf51d75f7aa"
      },
      "outputs": [],
      "source": [
        "def people_1():\n",
        "    for i in range(1, 6):\n",
        "        yield {\"ID\": i, \"Name\": f\"Person_{i}\", \"Age\": 25 + i, \"City\": \"City_A\"}\n",
        "\n",
        "# for person in people_1():\n",
        "#     print(person)\n",
        "\n",
        "\n",
        "def people_2():\n",
        "    for i in range(3, 9):\n",
        "        yield {\"ID\": i, \"Name\": f\"Person_{i}\", \"Age\": 30 + i, \"City\": \"City_B\", \"Occupation\": f\"Job_{i}\"}\n",
        "\n",
        "\n",
        "# for person in people_2():\n",
        "#     print(person)\n"
      ]
    },
    {
      "cell_type": "code",
      "execution_count": 72,
      "metadata": {},
      "outputs": [
        {
          "name": "stdout",
          "output_type": "stream",
          "text": [
            "Loaded tables: \n"
          ]
        },
        {
          "data": {
            "text/plain": [
              "┌─────────────────────┐\n",
              "│        name         │\n",
              "│       varchar       │\n",
              "├─────────────────────┤\n",
              "│ _dlt_loads          │\n",
              "│ _dlt_pipeline_state │\n",
              "│ _dlt_version        │\n",
              "│ people              │\n",
              "│ people_1            │\n",
              "│ people_2            │\n",
              "└─────────────────────┘"
            ]
          },
          "execution_count": 72,
          "metadata": {},
          "output_type": "execute_result"
        }
      ],
      "source": [
        "import dlt\n",
        "import duckdb\n",
        "\n",
        "# configure the pipeline with your destination details\n",
        "pipeline = dlt.pipeline(\n",
        "    pipeline_name='load_person_data',\n",
        "    destination='duckdb',\n",
        "    dataset_name='person_data'\n",
        ")\n",
        "\n",
        "conn = duckdb.connect(f\"{pipeline.pipeline_name}.duckdb\")\n",
        "\n",
        "# data = list(people_1())\n",
        "load_data = pipeline.run(people_1(), table_name='people')\n",
        "\n",
        "# let's see the tables\n",
        "conn.sql(f\"SET search_path = '{pipeline.dataset_name}'\")\n",
        "print('Loaded tables: ')\n",
        "conn.sql(\"show tables\")\n",
        "\n",
        "# conn.sql('TRUNCATE TABLE people_1')\n"
      ]
    },
    {
      "cell_type": "code",
      "execution_count": 74,
      "metadata": {},
      "outputs": [
        {
          "data": {
            "text/plain": [
              "┌───────┬──────────┬───────┬─────────┬────────────────────┬────────────────┐\n",
              "│  id   │   name   │  age  │  city   │    _dlt_load_id    │    _dlt_id     │\n",
              "│ int64 │ varchar  │ int64 │ varchar │      varchar       │    varchar     │\n",
              "├───────┼──────────┼───────┼─────────┼────────────────────┼────────────────┤\n",
              "│     1 │ Person_1 │    26 │ City_A  │ 1709305910.5168567 │ gqiWmy1D+i4NSQ │\n",
              "│     2 │ Person_2 │    27 │ City_A  │ 1709305910.5168567 │ 5k97Jjvm+rsvaw │\n",
              "│     3 │ Person_3 │    28 │ City_A  │ 1709305910.5168567 │ zqvuL3IMijPLZw │\n",
              "│     4 │ Person_4 │    29 │ City_A  │ 1709305910.5168567 │ KYK6lwBFqzmNlA │\n",
              "│     5 │ Person_5 │    30 │ City_A  │ 1709305910.5168567 │ mg4w1s5MdVsAWQ │\n",
              "└───────┴──────────┴───────┴─────────┴────────────────────┴────────────────┘"
            ]
          },
          "execution_count": 74,
          "metadata": {},
          "output_type": "execute_result"
        }
      ],
      "source": [
        "conn.sql('SELECT * FROM people')"
      ]
    },
    {
      "cell_type": "code",
      "execution_count": 75,
      "metadata": {},
      "outputs": [],
      "source": [
        "load_data2 = pipeline.run(people_2(), table_name='people')"
      ]
    },
    {
      "cell_type": "code",
      "execution_count": 76,
      "metadata": {},
      "outputs": [
        {
          "data": {
            "text/plain": [
              "┌───────┬──────────┬───────┬─────────┬────────────────────┬────────────────┬────────────┐\n",
              "│  id   │   name   │  age  │  city   │    _dlt_load_id    │    _dlt_id     │ occupation │\n",
              "│ int64 │ varchar  │ int64 │ varchar │      varchar       │    varchar     │  varchar   │\n",
              "├───────┼──────────┼───────┼─────────┼────────────────────┼────────────────┼────────────┤\n",
              "│     1 │ Person_1 │    26 │ City_A  │ 1709305910.5168567 │ gqiWmy1D+i4NSQ │ NULL       │\n",
              "│     2 │ Person_2 │    27 │ City_A  │ 1709305910.5168567 │ 5k97Jjvm+rsvaw │ NULL       │\n",
              "│     3 │ Person_3 │    28 │ City_A  │ 1709305910.5168567 │ zqvuL3IMijPLZw │ NULL       │\n",
              "│     4 │ Person_4 │    29 │ City_A  │ 1709305910.5168567 │ KYK6lwBFqzmNlA │ NULL       │\n",
              "│     5 │ Person_5 │    30 │ City_A  │ 1709305910.5168567 │ mg4w1s5MdVsAWQ │ NULL       │\n",
              "│     3 │ Person_3 │    33 │ City_B  │ 1709305938.9922628 │ Xy+fO4rAGFXZRA │ Job_3      │\n",
              "│     4 │ Person_4 │    34 │ City_B  │ 1709305938.9922628 │ hi/IvZ7sHV9RIg │ Job_4      │\n",
              "│     5 │ Person_5 │    35 │ City_B  │ 1709305938.9922628 │ ogVpJ/190Rfz3g │ Job_5      │\n",
              "│     6 │ Person_6 │    36 │ City_B  │ 1709305938.9922628 │ zdjaZ6T9mk6iqg │ Job_6      │\n",
              "│     7 │ Person_7 │    37 │ City_B  │ 1709305938.9922628 │ 7RRg/jSNU7bvkw │ Job_7      │\n",
              "│     8 │ Person_8 │    38 │ City_B  │ 1709305938.9922628 │ raNnQo01wbpptA │ Job_8      │\n",
              "├───────┴──────────┴───────┴─────────┴────────────────────┴────────────────┴────────────┤\n",
              "│ 11 rows                                                                     7 columns │\n",
              "└───────────────────────────────────────────────────────────────────────────────────────┘"
            ]
          },
          "execution_count": 76,
          "metadata": {},
          "output_type": "execute_result"
        }
      ],
      "source": [
        "conn.sql('SELECT * FROM people')"
      ]
    },
    {
      "cell_type": "code",
      "execution_count": 77,
      "metadata": {},
      "outputs": [
        {
          "data": {
            "text/plain": [
              "┌──────────┐\n",
              "│ sum(age) │\n",
              "│  int128  │\n",
              "├──────────┤\n",
              "│      353 │\n",
              "└──────────┘"
            ]
          },
          "execution_count": 77,
          "metadata": {},
          "output_type": "execute_result"
        }
      ],
      "source": [
        "conn.sql('SELECT SUM(age) FROM people')"
      ]
    },
    {
      "cell_type": "markdown",
      "metadata": {
        "id": "pY4cFAWOSwN1"
      },
      "source": [
        "# 3. Merge a generator\n",
        "\n",
        "Re-use the generators from Exercise 2.\n",
        "\n",
        "A table's primary key needs to be created from the start, so load your data to a new table with primary key ID.\n",
        "\n",
        "Load your first generator first, and then load the second one with merge. Since they have overlapping IDs, some of the records from the first load should be replaced by the ones from the second load.\n",
        "\n",
        "After loading, you should have a total of 8 records, and ID 3 should have age 33.\n",
        "\n",
        "Question: **Calculate the sum of ages of all the people loaded as described above.**\n"
      ]
    },
    {
      "cell_type": "markdown",
      "metadata": {
        "id": "kKB2GTB9oVjr"
      },
      "source": [
        "# Solution: First make sure that the following modules are installed:"
      ]
    },
    {
      "cell_type": "code",
      "execution_count": null,
      "metadata": {
        "id": "xTVvtyqrfVNq"
      },
      "outputs": [],
      "source": [
        "# #Install the dependencies\n",
        "# %%capture\n",
        "# !pip install dlt[duckdb]"
      ]
    },
    {
      "cell_type": "code",
      "execution_count": 78,
      "metadata": {
        "id": "a2-PRBAkGC2K"
      },
      "outputs": [
        {
          "name": "stdout",
          "output_type": "stream",
          "text": [
            "Loaded tables: \n"
          ]
        },
        {
          "data": {
            "text/plain": [
              "┌─────────────────────┐\n",
              "│        name         │\n",
              "│       varchar       │\n",
              "├─────────────────────┤\n",
              "│ _dlt_loads          │\n",
              "│ _dlt_pipeline_state │\n",
              "│ _dlt_version        │\n",
              "│ people              │\n",
              "│ people_1            │\n",
              "│ people_2            │\n",
              "│ people_merge        │\n",
              "└─────────────────────┘"
            ]
          },
          "execution_count": 78,
          "metadata": {},
          "output_type": "execute_result"
        }
      ],
      "source": [
        "conn = duckdb.connect(f\"{pipeline.pipeline_name}.duckdb\")\n",
        "\n",
        "# data = list(people_1())\n",
        "load_data = pipeline.run(people_1(), table_name='people_merge', primary_key='id')\n",
        "\n",
        "# let's see the tables\n",
        "conn.sql(f\"SET search_path = '{pipeline.dataset_name}'\")\n",
        "print('Loaded tables: ')\n",
        "conn.sql(\"show tables\")"
      ]
    },
    {
      "cell_type": "code",
      "execution_count": 79,
      "metadata": {},
      "outputs": [
        {
          "data": {
            "text/plain": [
              "┌───────┬──────────┬───────┬─────────┬───────────────────┬────────────────┐\n",
              "│  id   │   name   │  age  │  city   │   _dlt_load_id    │    _dlt_id     │\n",
              "│ int64 │ varchar  │ int64 │ varchar │      varchar      │    varchar     │\n",
              "├───────┼──────────┼───────┼─────────┼───────────────────┼────────────────┤\n",
              "│     1 │ Person_1 │    26 │ City_A  │ 1709307268.867604 │ njCMkkUGW2EfRA │\n",
              "│     2 │ Person_2 │    27 │ City_A  │ 1709307268.867604 │ A6NUBaQ8+bV1EA │\n",
              "│     3 │ Person_3 │    28 │ City_A  │ 1709307268.867604 │ jobUgqxYmt3PcA │\n",
              "│     4 │ Person_4 │    29 │ City_A  │ 1709307268.867604 │ UMDQXBIv9EZneA │\n",
              "│     5 │ Person_5 │    30 │ City_A  │ 1709307268.867604 │ UgYATtpnT9OE6g │\n",
              "└───────┴──────────┴───────┴─────────┴───────────────────┴────────────────┘"
            ]
          },
          "execution_count": 79,
          "metadata": {},
          "output_type": "execute_result"
        }
      ],
      "source": [
        "conn.sql('SELECT * FROM people_merge')"
      ]
    },
    {
      "cell_type": "code",
      "execution_count": 80,
      "metadata": {},
      "outputs": [
        {
          "data": {
            "text/plain": [
              "┌──────────┐\n",
              "│ sum(age) │\n",
              "│  int128  │\n",
              "├──────────┤\n",
              "│      140 │\n",
              "└──────────┘"
            ]
          },
          "execution_count": 80,
          "metadata": {},
          "output_type": "execute_result"
        }
      ],
      "source": [
        "conn.sql('SELECT SUM(age) FROM people_merge')"
      ]
    },
    {
      "cell_type": "code",
      "execution_count": 81,
      "metadata": {},
      "outputs": [],
      "source": [
        "load_data2 = pipeline.run(people_2(), table_name='people_merge', write_disposition='merge')"
      ]
    },
    {
      "cell_type": "code",
      "execution_count": 82,
      "metadata": {},
      "outputs": [
        {
          "data": {
            "text/plain": [
              "┌───────┬──────────┬───────┬─────────┬────────────────────┬────────────────┬────────────┐\n",
              "│  id   │   name   │  age  │  city   │    _dlt_load_id    │    _dlt_id     │ occupation │\n",
              "│ int64 │ varchar  │ int64 │ varchar │      varchar       │    varchar     │  varchar   │\n",
              "├───────┼──────────┼───────┼─────────┼────────────────────┼────────────────┼────────────┤\n",
              "│     1 │ Person_1 │    26 │ City_A  │ 1709307268.867604  │ njCMkkUGW2EfRA │ NULL       │\n",
              "│     2 │ Person_2 │    27 │ City_A  │ 1709307268.867604  │ A6NUBaQ8+bV1EA │ NULL       │\n",
              "│     8 │ Person_8 │    38 │ City_B  │ 1709307349.4443488 │ yX97qTE+TNgJEA │ Job_8      │\n",
              "│     4 │ Person_4 │    34 │ City_B  │ 1709307349.4443488 │ NfgC5seqtIww1A │ Job_4      │\n",
              "│     5 │ Person_5 │    35 │ City_B  │ 1709307349.4443488 │ ZZ4K+mcceFv8ow │ Job_5      │\n",
              "│     7 │ Person_7 │    37 │ City_B  │ 1709307349.4443488 │ zmxj5sJiSTIqyA │ Job_7      │\n",
              "│     3 │ Person_3 │    33 │ City_B  │ 1709307349.4443488 │ M4Yf6XZFUILwDQ │ Job_3      │\n",
              "│     6 │ Person_6 │    36 │ City_B  │ 1709307349.4443488 │ y6HB9lp71r6tqQ │ Job_6      │\n",
              "└───────┴──────────┴───────┴─────────┴────────────────────┴────────────────┴────────────┘"
            ]
          },
          "execution_count": 82,
          "metadata": {},
          "output_type": "execute_result"
        }
      ],
      "source": [
        "conn.sql('SELECT * FROM people_merge')"
      ]
    },
    {
      "cell_type": "code",
      "execution_count": 83,
      "metadata": {},
      "outputs": [
        {
          "data": {
            "text/plain": [
              "┌──────────┐\n",
              "│ sum(age) │\n",
              "│  int128  │\n",
              "├──────────┤\n",
              "│      266 │\n",
              "└──────────┘"
            ]
          },
          "execution_count": 83,
          "metadata": {},
          "output_type": "execute_result"
        }
      ],
      "source": [
        "conn.sql('SELECT SUM(age) FROM people_merge')"
      ]
    },
    {
      "cell_type": "markdown",
      "metadata": {
        "id": "PoTJu4kbGG0z"
      },
      "source": [
        "Questions? difficulties? We are here to help.\n",
        "- DTC data engineering course channel: https://datatalks-club.slack.com/archives/C01FABYF2RG\n",
        "- dlt's DTC cohort channel: https://dlthub-community.slack.com/archives/C06GAEX2VNX"
      ]
    }
  ],
  "metadata": {
    "colab": {
      "provenance": []
    },
    "kernelspec": {
      "display_name": "Python 3",
      "name": "python3"
    },
    "language_info": {
      "codemirror_mode": {
        "name": "ipython",
        "version": 3
      },
      "file_extension": ".py",
      "mimetype": "text/x-python",
      "name": "python",
      "nbconvert_exporter": "python",
      "pygments_lexer": "ipython3",
      "version": "3.10.13"
    }
  },
  "nbformat": 4,
  "nbformat_minor": 0
}
